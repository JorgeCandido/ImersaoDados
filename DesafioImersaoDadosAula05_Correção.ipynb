{
  "nbformat": 4,
  "nbformat_minor": 0,
  "metadata": {
    "colab": {
      "name": "Aula_5_Imersao_Dados_Alura.ipynb",
      "provenance": [],
      "collapsed_sections": [],
      "include_colab_link": true
    },
    "kernelspec": {
      "name": "python3",
      "display_name": "Python 3"
    }
  },
  "cells": [
    {
      "cell_type": "markdown",
      "metadata": {
        "id": "view-in-github",
        "colab_type": "text"
      },
      "source": [
        "<a href=\"https://colab.research.google.com/github/JorgeCandido/ImersaoDados/blob/main/DesafioImersaoDadosAula05_Corre%C3%A7%C3%A3o.ipynb\" target=\"_parent\"><img src=\"https://colab.research.google.com/assets/colab-badge.svg\" alt=\"Open In Colab\"/></a>"
      ]
    },
    {
      "cell_type": "markdown",
      "metadata": {
        "id": "jsziuUt0Pkpy"
      },
      "source": [
        "Olá a todos,\n",
        "\n",
        "Hoje teremos o maerial da última aula da semana de imersão de dados promovida pela **ALURA Cursos Online\"\".\n",
        "\n",
        "Na aula de ontem foram apresentados alguns conceitos básicos de **machine learning** e aplicamos alguns métodos de aprendizado e predição baseados nos dados do ENEM 2019.\n",
        "\n",
        "Abaixo podemos ver um compilado do que foi feito na última aula:"
      ]
    },
    {
      "cell_type": "code",
      "metadata": {
        "id": "4egzO4vNPTVr"
      },
      "source": [
        "### Importar bibliotecas \n",
        "import pandas as pd\n",
        "import numpy as np\n",
        "import matplotlib.pyplot as plt\n",
        "import seaborn as sns\n",
        "\n",
        "from sklearn.model_selection import train_test_split\n",
        "from sklearn.svm import LinearSVR\n",
        "from sklearn.metrics import mean_squared_error as mse\n",
        "from sklearn.metrics import mean_absolute_error as mae\n",
        "\n",
        "#------------------------------------------------------------------------------#\n",
        "### Importar dados do ENEM\n",
        "fonte = 'https://github.com/alura-cursos/imersao-dados-2-2020/blob/master/MICRODADOS_ENEM_2019_SAMPLE_43278.csv?raw=true'\n",
        "dados = pd.read_csv(fonte)  # importa os dados compartilhados (modo CSV - comma separated values) e disponibiliza no código como DataFrame\n",
        "\n",
        "#------------------------------------------------------------------------------#\n",
        "### Criar variável\n",
        "# Listar colunas desejadas com as notas das provas\n",
        "notas = ['NU_NOTA_CN','NU_NOTA_CH', 'NU_NOTA_MT', 'NU_NOTA_LC', 'NU_NOTA_REDACAO']\n",
        "\n",
        "# Somar as notas das provas e formar uma coluna nova\n",
        "dados['SOMA_NOTAS']=dados[notas].sum(axis=1) \n",
        "\n",
        "#------------------------------------------------------------------------------#\n",
        "### limpar base de dados\n",
        "# Eliminar NaN da base de dados\n",
        "dados_limpos =dados[notas].dropna()\n",
        "\n",
        "# Lita de colunas de input\n",
        "entrada = ['NU_NOTA_CN','NU_NOTA_CH', 'NU_NOTA_LC', 'NU_NOTA_REDACAO']\n",
        "#lista de colunas de outputs\n",
        "saida = 'NU_NOTA_MT'"
      ],
      "execution_count": null,
      "outputs": []
    },
    {
      "cell_type": "code",
      "metadata": {
        "id": "1OGSNoaBNWR3",
        "outputId": "f8865997-d16e-44c1-c64f-3566ac8a030c",
        "colab": {
          "base_uri": "https://localhost:8080/",
          "height": 90
        }
      },
      "source": [
        "# DFs que serão utilizados (dados sem notas NaN)\n",
        "notas_entrada = X = dados_limpos[entrada]\n",
        "notas_entrada = y = dados_limpos[saida]\n",
        "\n",
        "#------------------------------------------------------------------------------#\n",
        "### Iniciar o processo de ML\n",
        "# Definir um SEED para evitar variabilidade do processo\n",
        "seed=4321\n",
        "\n",
        "# Dividir os dados em modelo de treinamento e de teste\n",
        "X_train, X_test, y_train, y_test = train_test_split(X,y, test_size=0.25, random_state=seed)\n",
        "\n",
        "# Selecionar o modelo e treinar\n",
        "modelo_LinearSVR = LinearSVR(random_state=seed)\n",
        "\n",
        "# Treinar modelo\n",
        "modelo_LinearSVR.fit(X_train, y_train)\n",
        "y_prev_LinearSVR = modelo_LinearSVR.predict(X_test)\n",
        "print(mse(y_test, y_prev_LinearSVR))\n",
        "print(mae(y_test, y_prev_LinearSVR))"
      ],
      "execution_count": null,
      "outputs": [
        {
          "output_type": "stream",
          "text": [
            "8249.650542929467\n",
            "71.66538001482824\n"
          ],
          "name": "stdout"
        },
        {
          "output_type": "stream",
          "text": [
            "/usr/local/lib/python3.6/dist-packages/sklearn/svm/_base.py:947: ConvergenceWarning: Liblinear failed to converge, increase the number of iterations.\n",
            "  \"the number of iterations.\", ConvergenceWarning)\n"
          ],
          "name": "stderr"
        }
      ]
    },
    {
      "cell_type": "markdown",
      "metadata": {
        "id": "MWkOm_mDSMNh"
      },
      "source": [
        "Quando criamos o **seed** o objetivo era diminuir a aleatoreidade do modelo e sua dependência da amostra utilizada. Contudo, sempre que fizermos um modelo e não utilizarmos o **seed** teremos um erro diferente de erro, como podemos ver abaixo:"
      ]
    },
    {
      "cell_type": "code",
      "metadata": {
        "id": "cY4nQMFoQhbk",
        "outputId": "fbbb9366-62df-476f-f36c-08d302e9c6fa",
        "colab": {
          "base_uri": "https://localhost:8080/",
          "height": 90
        }
      },
      "source": [
        "# Selecionar o modelo e treinar\n",
        "modelo_LinearSVR = LinearSVR()\n",
        "\n",
        "# Treinar modelo\n",
        "modelo_LinearSVR.fit(X_train, y_train)\n",
        "y_prev_LinearSVR = modelo_LinearSVR.predict(X_test)\n",
        "print(mse(y_test, y_prev_LinearSVR))\n",
        "print(mae(y_test, y_prev_LinearSVR))"
      ],
      "execution_count": null,
      "outputs": [
        {
          "output_type": "stream",
          "text": [
            "6137.90103884087\n",
            "63.20620745392984\n"
          ],
          "name": "stdout"
        },
        {
          "output_type": "stream",
          "text": [
            "/usr/local/lib/python3.6/dist-packages/sklearn/svm/_base.py:947: ConvergenceWarning: Liblinear failed to converge, increase the number of iterations.\n",
            "  \"the number of iterations.\", ConvergenceWarning)\n"
          ],
          "name": "stderr"
        }
      ]
    },
    {
      "cell_type": "code",
      "metadata": {
        "id": "HDMiimWGTea1",
        "outputId": "a14c0890-6af2-4cb7-a76c-26e877d3a976",
        "colab": {
          "base_uri": "https://localhost:8080/",
          "height": 90
        }
      },
      "source": [
        "# Selecionar o modelo e treinar\n",
        "modelo_LinearSVR = LinearSVR()\n",
        "\n",
        "# Treinar modelo\n",
        "modelo_LinearSVR.fit(X_train, y_train)\n",
        "y_prev_LinearSVR = modelo_LinearSVR.predict(X_test)\n",
        "print(mse(y_test, y_prev_LinearSVR))\n",
        "print(mae(y_test, y_prev_LinearSVR))"
      ],
      "execution_count": null,
      "outputs": [
        {
          "output_type": "stream",
          "text": [
            "8227.23296703544\n",
            "73.87621469596453\n"
          ],
          "name": "stdout"
        },
        {
          "output_type": "stream",
          "text": [
            "/usr/local/lib/python3.6/dist-packages/sklearn/svm/_base.py:947: ConvergenceWarning: Liblinear failed to converge, increase the number of iterations.\n",
            "  \"the number of iterations.\", ConvergenceWarning)\n"
          ],
          "name": "stderr"
        }
      ]
    },
    {
      "cell_type": "markdown",
      "metadata": {
        "id": "AlYLhRb_TiQ2"
      },
      "source": [
        "Uma das formas de diminuir a dependência que o modelo possui pela **seed** aplicada é o uso de um outro modelo: a árvore de decisões (**DecisionTreeRegressor**)\n"
      ]
    },
    {
      "cell_type": "code",
      "metadata": {
        "id": "WlTbPOWPTgPR",
        "outputId": "1f7f7643-9d93-487b-fa35-13342e2f05ed",
        "colab": {
          "base_uri": "https://localhost:8080/",
          "height": 54
        }
      },
      "source": [
        "# Importar modelo\n",
        "from sklearn.tree import DecisionTreeRegressor\n",
        "# escolher modelo\n",
        "modelo_DecisionTreeRegressor = DecisionTreeRegressor(max_depth = 3)\n",
        "# Treinar modelo\n",
        "modelo_DecisionTreeRegressor.fit(X_train, y_train)\n",
        "# Prever resultado\n",
        "y_DecisionTreeRegressor = modelo_DecisionTreeRegressor.predict(X_test)\n",
        "print(mse(y_test, y_DecisionTreeRegressor))\n",
        "print(mae(y_test, y_DecisionTreeRegressor))"
      ],
      "execution_count": null,
      "outputs": [
        {
          "output_type": "stream",
          "text": [
            "6020.959074272204\n",
            "62.24737685990148\n"
          ],
          "name": "stdout"
        }
      ]
    },
    {
      "cell_type": "code",
      "metadata": {
        "id": "mv06c04LZlmn",
        "outputId": "2f3cbd22-da4c-479e-ce3e-2e2ff516f290",
        "colab": {
          "base_uri": "https://localhost:8080/",
          "height": 54
        }
      },
      "source": [
        "# Importar modelo\n",
        "from sklearn.tree import DecisionTreeRegressor\n",
        "# escolher modelo\n",
        "modelo_DecisionTreeRegressor = DecisionTreeRegressor(max_depth = 3)\n",
        "# Treinar modelo\n",
        "modelo_DecisionTreeRegressor.fit(X_train, y_train)\n",
        "# Prever resultado\n",
        "y_DecisionTreeRegressor = modelo_DecisionTreeRegressor.predict(X_test)\n",
        "print(mse(y_test, y_DecisionTreeRegressor))\n",
        "print(mae(y_test, y_DecisionTreeRegressor))"
      ],
      "execution_count": null,
      "outputs": [
        {
          "output_type": "stream",
          "text": [
            "6020.959074272204\n",
            "62.247376859901564\n"
          ],
          "name": "stdout"
        }
      ]
    },
    {
      "cell_type": "markdown",
      "metadata": {
        "id": "EZIY4wO9ZIWe"
      },
      "source": [
        "Como podemos ver, o **DecisionTreeRegressor** diminuiu significantemente a variabilidade da simulação, porém continuamos com a possibilidade de variação devido às amostras, como podemos ver abaixo."
      ]
    },
    {
      "cell_type": "code",
      "metadata": {
        "id": "xYokEr_WT9cb",
        "outputId": "21ec2890-c2c5-4e71-ac7e-64c5011c1b6a",
        "colab": {
          "base_uri": "https://localhost:8080/",
          "height": 54
        }
      },
      "source": [
        "### Iniciar o processo de ML\n",
        "# Dividir os dados em modelo de treinamento e de teste\n",
        "X_train, X_test, y_train, y_test = train_test_split(X,y, test_size=0.25)\n",
        "\n",
        "# Importar modelo\n",
        "from sklearn.tree import DecisionTreeRegressor\n",
        "# escolher modelo\n",
        "modelo_DecisionTreeRegressor = DecisionTreeRegressor(max_depth = 3)\n",
        "# Treinar modelo\n",
        "modelo_DecisionTreeRegressor.fit(X_train, y_train)\n",
        "# Prever resultado\n",
        "y_DecisionTreeRegressor = modelo_DecisionTreeRegressor.predict(X_test)\n",
        "print(mse(y_test, y_DecisionTreeRegressor))\n",
        "print(mae(y_test, y_DecisionTreeRegressor))"
      ],
      "execution_count": null,
      "outputs": [
        {
          "output_type": "stream",
          "text": [
            "6020.573305842066\n",
            "62.12782714848413\n"
          ],
          "name": "stdout"
        }
      ]
    },
    {
      "cell_type": "code",
      "metadata": {
        "id": "2O9kOqCCVY2y",
        "outputId": "83434fb1-2849-4cb9-cb36-e73ad6d57855",
        "colab": {
          "base_uri": "https://localhost:8080/",
          "height": 54
        }
      },
      "source": [
        "### Iniciar o processo de ML\n",
        "# Dividir os dados em modelo de treinamento e de teste\n",
        "X_train, X_test, y_train, y_test = train_test_split(X,y, test_size=0.25)\n",
        "\n",
        "# Importar modelo\n",
        "from sklearn.tree import DecisionTreeRegressor\n",
        "# escolher modelo\n",
        "modelo_DecisionTreeRegressor = DecisionTreeRegressor(max_depth = 3)\n",
        "# Treinar modelo\n",
        "modelo_DecisionTreeRegressor.fit(X_train, y_train)\n",
        "# Prever resultado\n",
        "y_DecisionTreeRegressor = modelo_DecisionTreeRegressor.predict(X_test)\n",
        "print(mse(y_test, y_DecisionTreeRegressor))\n",
        "print(mae(y_test, y_DecisionTreeRegressor))"
      ],
      "execution_count": null,
      "outputs": [
        {
          "output_type": "stream",
          "text": [
            "6063.577602608717\n",
            "62.281456343581475\n"
          ],
          "name": "stdout"
        }
      ]
    },
    {
      "cell_type": "markdown",
      "metadata": {
        "id": "B65R0C1shoeJ"
      },
      "source": [
        "Uma forma de diminuir a influência da quebra dos dados na previsão do modelo é através da validação cruzada (**cross_validate**).\n",
        "\n",
        "A validação funciona assim: os dados são quebrados em vários subgrupos, assim, são feitos testes de numero igual à quantidade de quebra dos dados em seguida é calculada uma média da qualidade dos modelos\n",
        "\n",
        "Para entender melhor o processod evalidação cruzada, recomenda-se dar uma olhada no link a seguir:\n",
        "\n",
        "        Referência para cross validation:\n",
        "            https://scikit-learn.org/stable/modules/cross_validation.html\n",
        "\n"
      ]
    },
    {
      "cell_type": "code",
      "metadata": {
        "id": "1EW2PLjMatPB",
        "outputId": "7cc845ac-a4d2-4aae-f0b8-7640d2c91050",
        "colab": {
          "base_uri": "https://localhost:8080/",
          "height": 72
        }
      },
      "source": [
        "from sklearn.model_selection import cross_validate\n",
        "modelo_DecisionTreeRegressor = DecisionTreeRegressor(max_depth=2)\n",
        "cross_validate(modelo_DecisionTreeRegressor, X, y)"
      ],
      "execution_count": null,
      "outputs": [
        {
          "output_type": "execute_result",
          "data": {
            "text/plain": [
              "{'fit_time': array([0.06217837, 0.05285859, 0.05195761, 0.05074048, 0.05354571]),\n",
              " 'score_time': array([0.00235057, 0.00219774, 0.0022049 , 0.00221181, 0.00219178]),\n",
              " 'test_score': array([0.44040436, 0.46935099, 0.44677289, 0.48505061, 0.40158969])}"
            ]
          },
          "metadata": {
            "tags": []
          },
          "execution_count": 150
        }
      ]
    },
    {
      "cell_type": "markdown",
      "metadata": {
        "id": "rSopnXmom-xp"
      },
      "source": [
        "Como é possível ver, o **cross_validade** retorna um dictionary contendo 3 parametros:\n",
        "\n",
        "    fit_time: tempo treino e teste dos dados para cada divisão\n",
        "    score_time: tempo para calcular o score de cada divisão\n",
        "    test_score: a medida de qualidade do modelo para cada divisão\n",
        "\n",
        "É possível ver que o test_score não é nada parecido com os valores que estávamos acostumados até agora. Isso é devido à métrica utilizada no **cross_validate** que por padrão é a **r2**. Para que tenhamos a mesma métrica que usamos nos modelos anteriores temos que mudar o parâmetro **scoring** para **mean_square_error** ou **mean_absolute_error**\n",
        "\n",
        "        Referência métricas\n",
        "            https://scikit-learn.org/stable/modules/model_evaluation.html#scoring-parameter\n",
        "\n",
        "        Referência métrica r2\n",
        "            https://scikit-learn.org/stable/modules/generated/sklearn.metrics.r2_score.html#sklearn.metrics.r2_score\n",
        "\n",
        "Para selecionar o **mean sqare error** ou o **mean absolute error**, de acordo com a documentação, precisamos selecionar respectivamente **'neg_mean_squared_error'** e **'neg_mean_absolute_error'** (entre aspas mesmo, pois o input desse parâmetro é uma **str**)\n",
        "\n",
        "Esses valores de erro são negativos por conta de uma lógica de otimização que existe dentro do **scikit-learning** de quanto maior o número, melhor ele é (isso é aplicado no **r2** que pode serna melhor das hipóteses 1).\n",
        "\n",
        "Assim, dado que para **mean sqare error** e **mean absolute error** o melhor resultado possível é erro=0, a lógica do códicgo fica preservada.\n"
      ]
    },
    {
      "cell_type": "code",
      "metadata": {
        "id": "z8yhMtDCjM6h",
        "outputId": "0177978b-264d-46f1-da7b-519aae106c28",
        "colab": {
          "base_uri": "https://localhost:8080/",
          "height": 90
        }
      },
      "source": [
        "from sklearn.model_selection import cross_validate\n",
        "modelo_DecisionTreeRegressor = DecisionTreeRegressor(max_depth=2)\n",
        "cross_validate(modelo_DecisionTreeRegressor, X, y, scoring='neg_mean_squared_error')"
      ],
      "execution_count": null,
      "outputs": [
        {
          "output_type": "execute_result",
          "data": {
            "text/plain": [
              "{'fit_time': array([0.05703235, 0.05198812, 0.05284095, 0.05781555, 0.0587163 ]),\n",
              " 'score_time': array([0.00188422, 0.00192142, 0.00186634, 0.00202441, 0.0018568 ]),\n",
              " 'test_score': array([-6329.37154527, -6390.89060392, -6519.6529336 , -6701.92070777,\n",
              "        -6863.49700731])}"
            ]
          },
          "metadata": {
            "tags": []
          },
          "execution_count": 151
        }
      ]
    },
    {
      "cell_type": "code",
      "metadata": {
        "id": "_qOY-5cyp9vM",
        "outputId": "106e4861-1ac6-4826-f69a-a724f5f19287",
        "colab": {
          "base_uri": "https://localhost:8080/",
          "height": 90
        }
      },
      "source": [
        "cross_validate(modelo_DecisionTreeRegressor, X, y, scoring='neg_mean_absolute_error')"
      ],
      "execution_count": null,
      "outputs": [
        {
          "output_type": "execute_result",
          "data": {
            "text/plain": [
              "{'fit_time': array([0.05663967, 0.05228305, 0.05472732, 0.05552936, 0.05317092]),\n",
              " 'score_time': array([0.00191522, 0.00189281, 0.00190616, 0.00192213, 0.0018878 ]),\n",
              " 'test_score': array([-63.86347402, -64.01502372, -64.77772852, -65.78585991,\n",
              "        -66.32013482])}"
            ]
          },
          "metadata": {
            "tags": []
          },
          "execution_count": 152
        }
      ]
    },
    {
      "cell_type": "markdown",
      "metadata": {
        "id": "kMjl_mA70Yqq"
      },
      "source": [
        "Como pudemos notar, a validação cruzada tem por padrão 5 divisões. Se quisermos mudar essa divisão, podemos alterar o parâmetro **cv** que indica o número de divisões que desejamos"
      ]
    },
    {
      "cell_type": "code",
      "metadata": {
        "id": "ItjeDmkx0vRR",
        "outputId": "d1079c7d-38b4-4b1b-b2f3-b35720db7b4a",
        "colab": {
          "base_uri": "https://localhost:8080/",
          "height": 145
        }
      },
      "source": [
        "cross_validate(modelo_DecisionTreeRegressor, X, y,cv=10,\n",
        "               scoring='neg_mean_squared_error')"
      ],
      "execution_count": null,
      "outputs": [
        {
          "output_type": "execute_result",
          "data": {
            "text/plain": [
              "{'fit_time': array([0.06950665, 0.06245112, 0.05937004, 0.05842781, 0.05963755,\n",
              "        0.05872822, 0.05861473, 0.05818462, 0.06298304, 0.05972099]),\n",
              " 'score_time': array([0.00177217, 0.00156355, 0.0015707 , 0.00153971, 0.00151896,\n",
              "        0.00180125, 0.00154185, 0.00156832, 0.00154257, 0.00154734]),\n",
              " 'test_score': array([-6139.92068201, -6537.82641962, -6337.73724622, -6458.06384873,\n",
              "        -6233.80062047, -6795.32790094, -6713.2975924 , -6692.69619117,\n",
              "        -6633.42595486, -7085.89236185])}"
            ]
          },
          "metadata": {
            "tags": []
          },
          "execution_count": 153
        }
      ]
    },
    {
      "cell_type": "markdown",
      "metadata": {
        "id": "FlclGYmZwS_F"
      },
      "source": [
        "Assim, caso queiramos obter o valor de erro médio da validação cruzada, temos que multiplicar por -1 e fazer a média dos **test_score**."
      ]
    },
    {
      "cell_type": "code",
      "metadata": {
        "id": "QwFJASfSqpN1"
      },
      "source": [
        "media_cros_valid_mse = (cross_validate(modelo_DecisionTreeRegressor, X, y, cv=10, \n",
        "                                       scoring='neg_mean_squared_error')['test_score']*-1).mean()\n",
        "media_cros_valid_mae = (cross_validate(modelo_DecisionTreeRegressor, X, y, cv=10, \n",
        "                                       scoring='neg_mean_absolute_error')['test_score']*-1).mean()"
      ],
      "execution_count": null,
      "outputs": []
    },
    {
      "cell_type": "code",
      "metadata": {
        "id": "jdfgh9U1wxHF",
        "outputId": "ac053e64-94d7-4183-9f36-7763c6dac8f9",
        "colab": {
          "base_uri": "https://localhost:8080/",
          "height": 35
        }
      },
      "source": [
        "media_cros_valid_mse"
      ],
      "execution_count": null,
      "outputs": [
        {
          "output_type": "execute_result",
          "data": {
            "text/plain": [
              "6562.798881826292"
            ]
          },
          "metadata": {
            "tags": []
          },
          "execution_count": 155
        }
      ]
    },
    {
      "cell_type": "code",
      "metadata": {
        "id": "nmyCMCTExKM0",
        "outputId": "967c91ec-942a-4034-f016-38670bd6464c",
        "colab": {
          "base_uri": "https://localhost:8080/",
          "height": 35
        }
      },
      "source": [
        "media_cros_valid_mae"
      ],
      "execution_count": null,
      "outputs": [
        {
          "output_type": "execute_result",
          "data": {
            "text/plain": [
              "64.96844491394997"
            ]
          },
          "metadata": {
            "tags": []
          },
          "execution_count": 156
        }
      ]
    },
    {
      "cell_type": "markdown",
      "metadata": {
        "id": "sE0yL-11x8M2"
      },
      "source": [
        "Como já vimos anteriormente, a média não significa muita coisa sozinha no estudo de estatistica. Para ter uma melhor compreensão sobre a qualidade do modelo precisamos ter informações além da média, como desio padrão:"
      ]
    },
    {
      "cell_type": "code",
      "metadata": {
        "id": "C8Xes81MxNRk"
      },
      "source": [
        "desv_pad_cros_valid_mse = (cross_validate(modelo_DecisionTreeRegressor, X, y, \n",
        "                                          cv=10,scoring='neg_mean_squared_error'\n",
        "                                          )['test_score']*-1).std()\n",
        "desv_pad_cros_valid_mae = (cross_validate(modelo_DecisionTreeRegressor, X, y, \n",
        "                                          cv=10,scoring='neg_mean_absolute_error'\n",
        "                                          )['test_score']*-1).std()"
      ],
      "execution_count": null,
      "outputs": []
    },
    {
      "cell_type": "code",
      "metadata": {
        "id": "ZAqAcAApzOnq",
        "outputId": "d40d1eb8-a8c9-4ce8-e07d-fdd606e75156",
        "colab": {
          "base_uri": "https://localhost:8080/",
          "height": 35
        }
      },
      "source": [
        "desv_pad_cros_valid_mse"
      ],
      "execution_count": null,
      "outputs": [
        {
          "output_type": "execute_result",
          "data": {
            "text/plain": [
              "268.61115177700214"
            ]
          },
          "metadata": {
            "tags": []
          },
          "execution_count": 158
        }
      ]
    },
    {
      "cell_type": "code",
      "metadata": {
        "id": "59hIVeLQzP_o",
        "outputId": "ece9a5dd-c2e7-4b56-e458-b99f42961021",
        "colab": {
          "base_uri": "https://localhost:8080/",
          "height": 35
        }
      },
      "source": [
        "desv_pad_cros_valid_mae"
      ],
      "execution_count": null,
      "outputs": [
        {
          "output_type": "execute_result",
          "data": {
            "text/plain": [
              "1.2962062806279033"
            ]
          },
          "metadata": {
            "tags": []
          },
          "execution_count": 159
        }
      ]
    },
    {
      "cell_type": "markdown",
      "metadata": {
        "id": "R8BwjEF60J8a"
      },
      "source": [
        "Das teorias de estatística sabemos que 95% dos dados que temos estão entre 2 desvio padrão para baixo (limite inferior) e 2 desvio padrão para cima (limite superior). Podemos assim calcular esse desvio padrão:"
      ]
    },
    {
      "cell_type": "code",
      "metadata": {
        "id": "80ZCpWzmzQjp",
        "outputId": "787ddd27-3f0e-40e5-f4c6-731c3586ef75",
        "colab": {
          "base_uri": "https://localhost:8080/",
          "height": 54
        }
      },
      "source": [
        "# Limites para mse\n",
        "mse_lim_sup = media_cros_valid_mse + 2*desv_pad_cros_valid_mse\n",
        "mse_lim_inf = media_cros_valid_mse - 2*desv_pad_cros_valid_mse\n",
        "print(mse_lim_sup)\n",
        "print(mse_lim_inf)"
      ],
      "execution_count": null,
      "outputs": [
        {
          "output_type": "stream",
          "text": [
            "7100.021185380297\n",
            "6025.576578272287\n"
          ],
          "name": "stdout"
        }
      ]
    },
    {
      "cell_type": "code",
      "metadata": {
        "id": "zeOY2N4c2u51",
        "outputId": "23eb394f-c2d9-4e54-e450-ecb96baa7a10",
        "colab": {
          "base_uri": "https://localhost:8080/",
          "height": 54
        }
      },
      "source": [
        "# Limites para mae\n",
        "mae_lim_sup = media_cros_valid_mae + 2*desv_pad_cros_valid_mae\n",
        "mae_lim_inf = media_cros_valid_mae - 2*desv_pad_cros_valid_mae\n",
        "print(mae_lim_inf)\n",
        "print(mae_lim_sup)"
      ],
      "execution_count": null,
      "outputs": [
        {
          "output_type": "stream",
          "text": [
            "62.37603235269416\n",
            "67.56085747520578\n"
          ],
          "name": "stdout"
        }
      ]
    },
    {
      "cell_type": "markdown",
      "metadata": {
        "id": "_txe6Ds1cbQZ"
      },
      "source": [
        "Para facilitar a aplicação no futuro, vamos montar uma função que retorne esses dados que acabamos de calcular:"
      ]
    },
    {
      "cell_type": "code",
      "metadata": {
        "id": "SZjstkIJ2_1n"
      },
      "source": [
        "y_mae = cross_validate(modelo_DecisionTreeRegressor, X, y, cv=10, \n",
        "                       scoring='neg_mean_absolute_error')['test_score']\n",
        "y_mse = cross_validate(modelo_DecisionTreeRegressor, X, y, cv=10, \n",
        "                       scoring='neg_mean_squared_error')['test_score']\n",
        "\n",
        "def calcula_erro(y_res):\n",
        "    media = (y_res*-1).mean()\n",
        "    desv_pad = (y_res*-1).std()\n",
        "    lim_sup = media + 2*desv_pad\n",
        "    lim_inf = media - 2*desv_pad\n",
        "\n",
        "#    print('Média:           ', media)\n",
        "#    print('Desvio Padrão:   ', desv_pad)\n",
        "#    print('Limite Superior: ', lim_sup)\n",
        "#    print('Limite Inferior: ', lim_inf)\n",
        "\n",
        "    return media, desv_pad, lim_sup, lim_inf"
      ],
      "execution_count": null,
      "outputs": []
    },
    {
      "cell_type": "code",
      "metadata": {
        "id": "jDtPpywNfdAi",
        "outputId": "dd2605cf-c0ea-4a85-9f29-37b2fd029295",
        "colab": {
          "base_uri": "https://localhost:8080/",
          "height": 35
        }
      },
      "source": [
        "calcula_erro(y_mae)"
      ],
      "execution_count": null,
      "outputs": [
        {
          "output_type": "execute_result",
          "data": {
            "text/plain": [
              "(64.96844491394994, 1.29620628062788, 67.5608574752057, 62.376032352694175)"
            ]
          },
          "metadata": {
            "tags": []
          },
          "execution_count": 163
        }
      ]
    },
    {
      "cell_type": "code",
      "metadata": {
        "id": "biSbY1RifvV-",
        "outputId": "93c0f822-3aa6-4517-8b15-eb7b048b41a4",
        "colab": {
          "base_uri": "https://localhost:8080/",
          "height": 35
        }
      },
      "source": [
        "calcula_erro(y_mse)"
      ],
      "execution_count": null,
      "outputs": [
        {
          "output_type": "execute_result",
          "data": {
            "text/plain": [
              "(6562.798881826289, 268.6111517769984, 7100.021185380286, 6025.576578272293)"
            ]
          },
          "metadata": {
            "tags": []
          },
          "execution_count": 164
        }
      ]
    },
    {
      "cell_type": "markdown",
      "metadata": {
        "id": "duWhViOhglDP"
      },
      "source": [
        "Apesar de a validação cruzada ser útil para aumentar a nossa confiabilidade no modelo, as vezes os dados estão classificados de uma forma que podem prejudicar o aprendizado deste.\n",
        "\n",
        "Assim, uma boa prática para evitar isso é misturar os dados. Para isso, o **scikit-learn** possui uma função que facilita bastante o trabalho, **KFold**."
      ]
    },
    {
      "cell_type": "code",
      "metadata": {
        "id": "K0SSlC4afxiQ",
        "outputId": "e00d61c0-f13b-4e28-ad80-aca288099efc",
        "colab": {
          "base_uri": "https://localhost:8080/",
          "height": 35
        }
      },
      "source": [
        "from sklearn.model_selection import KFold\n",
        "# instanciar KFold\n",
        "partes = KFold(n_splits=10, shuffle=True)\n",
        "# Selecionar o modelo\n",
        "modelo_DecisionTreeRegressor = DecisionTreeRegressor(max_depth=2)\n",
        "y_DecisionTreeRegressor_cross_valid = cross_validate(modelo_DecisionTreeRegressor,\n",
        "                                                     X, y, cv=partes,\n",
        "                                                     scoring='neg_mean_squared_error')\n",
        "calcula_erro(y_DecisionTreeRegressor_cross_valid['test_score'])"
      ],
      "execution_count": null,
      "outputs": [
        {
          "output_type": "execute_result",
          "data": {
            "text/plain": [
              "(6558.9346548360145, 90.54513031670852, 6740.024915469431, 6377.844394202598)"
            ]
          },
          "metadata": {
            "tags": []
          },
          "execution_count": 165
        }
      ]
    },
    {
      "cell_type": "code",
      "metadata": {
        "id": "epsabqhajBAP",
        "outputId": "a3f50c0d-dab3-415a-e779-f5d820130208",
        "colab": {
          "base_uri": "https://localhost:8080/",
          "height": 35
        }
      },
      "source": [
        "# instanciar KFold\n",
        "partes = KFold(n_splits=10, shuffle=True)\n",
        "# Selecionar o modelo\n",
        "modelo_DecisionTreeRegressor = DecisionTreeRegressor(max_depth=2)\n",
        "y_DecisionTreeRegressor_cross_valid = cross_validate(modelo_DecisionTreeRegressor,\n",
        "                                                     X, y, cv=partes,\n",
        "                                                     scoring='neg_mean_squared_error')\n",
        "calcula_erro(y_DecisionTreeRegressor_cross_valid['test_score'])"
      ],
      "execution_count": null,
      "outputs": [
        {
          "output_type": "execute_result",
          "data": {
            "text/plain": [
              "(6560.011703239116, 116.37649414144427, 6792.764691522005, 6327.258714956228)"
            ]
          },
          "metadata": {
            "tags": []
          },
          "execution_count": 166
        }
      ]
    },
    {
      "cell_type": "code",
      "metadata": {
        "id": "5ZZy8xmxmCvC",
        "outputId": "ca537814-5709-4ccb-bf8f-65a279e124c2",
        "colab": {
          "base_uri": "https://localhost:8080/",
          "height": 35
        }
      },
      "source": [
        "# instanciar KFold\n",
        "partes = KFold(n_splits=10, shuffle=True)\n",
        "# Selecionar o modelo\n",
        "modelo_DecisionTreeRegressor = DecisionTreeRegressor(max_depth=2)\n",
        "y_DecisionTreeRegressor_cross_valid = cross_validate(modelo_DecisionTreeRegressor,\n",
        "                                                     X, y, cv=partes,\n",
        "                                                     scoring='neg_mean_squared_error')\n",
        "calcula_erro(y_DecisionTreeRegressor_cross_valid['test_score'])"
      ],
      "execution_count": null,
      "outputs": [
        {
          "output_type": "execute_result",
          "data": {
            "text/plain": [
              "(6556.765848942539, 85.19700315879486, 6727.159855260129, 6386.37184262495)"
            ]
          },
          "metadata": {
            "tags": []
          },
          "execution_count": 167
        }
      ]
    },
    {
      "cell_type": "code",
      "metadata": {
        "id": "UEOxK7y8mLn2",
        "outputId": "219e98f2-2e83-4614-f723-4bc98353c7ab",
        "colab": {
          "base_uri": "https://localhost:8080/",
          "height": 35
        }
      },
      "source": [
        "# instanciar KFold\n",
        "partes = KFold(n_splits=10, shuffle=True)\n",
        "# Selecionar o modelo\n",
        "modelo_DecisionTreeRegressor = DecisionTreeRegressor(max_depth=2)\n",
        "y_DecisionTreeRegressor_cross_valid = cross_validate(modelo_DecisionTreeRegressor,\n",
        "                                                     X, y, cv=partes,\n",
        "                                                     scoring='neg_mean_squared_error')\n",
        "calcula_erro(y_DecisionTreeRegressor_cross_valid['test_score'])"
      ],
      "execution_count": null,
      "outputs": [
        {
          "output_type": "execute_result",
          "data": {
            "text/plain": [
              "(6553.810602406188, 124.42285492001234, 6802.656312246213, 6304.964892566163)"
            ]
          },
          "metadata": {
            "tags": []
          },
          "execution_count": 168
        }
      ]
    },
    {
      "cell_type": "markdown",
      "metadata": {
        "id": "Ul4U6khWl6sp"
      },
      "source": [
        "É possível ver agora que os modelo não varia tanto mesmo com a mudança do embaralhamento dos dados.\n",
        "\n",
        "Caso queiramos ter uma reprodutividade do processo mesmo com o embaralhamento, podemos configurar um **SEED** para isso:"
      ]
    },
    {
      "cell_type": "code",
      "metadata": {
        "id": "EBuQB0ELl4NM",
        "outputId": "86ae0d81-2f05-4faa-d2fd-4a777a9d763a",
        "colab": {
          "base_uri": "https://localhost:8080/",
          "height": 35
        }
      },
      "source": [
        "# Setar SEED:\n",
        "SEED=1234\n",
        "np.random.seed(SEED)\n",
        "# instanciar KFold\n",
        "partes = KFold(n_splits=10, shuffle=True)\n",
        "# Selecionar o modelo\n",
        "modelo_DecisionTreeRegressor = DecisionTreeRegressor(max_depth=2)\n",
        "y_DecisionTreeRegressor_cross_valid = cross_validate(modelo_DecisionTreeRegressor,\n",
        "                                                     X, y, cv=partes,\n",
        "                                                     scoring='neg_mean_squared_error')\n",
        "calcula_erro(y_DecisionTreeRegressor_cross_valid['test_score'])"
      ],
      "execution_count": null,
      "outputs": [
        {
          "output_type": "execute_result",
          "data": {
            "text/plain": [
              "(6558.321643161868, 75.92664374939292, 6710.174930660654, 6406.468355663083)"
            ]
          },
          "metadata": {
            "tags": []
          },
          "execution_count": 169
        }
      ]
    },
    {
      "cell_type": "code",
      "metadata": {
        "id": "VgCR2qPOm9v7",
        "outputId": "161f76cb-3637-4c31-e76b-2a44fdb70016",
        "colab": {
          "base_uri": "https://localhost:8080/",
          "height": 35
        }
      },
      "source": [
        "# Setar SEED:\n",
        "SEED=1234\n",
        "np.random.seed(SEED)\n",
        "# instanciar KFold\n",
        "partes = KFold(n_splits=10, shuffle=True)\n",
        "# Selecionar o modelo\n",
        "modelo_DecisionTreeRegressor = DecisionTreeRegressor(max_depth=2)\n",
        "y_DecisionTreeRegressor_cross_valid = cross_validate(modelo_DecisionTreeRegressor,\n",
        "                                                     X, y, cv=partes,\n",
        "                                                     scoring='neg_mean_squared_error')\n",
        "calcula_erro(y_DecisionTreeRegressor_cross_valid['test_score'])"
      ],
      "execution_count": null,
      "outputs": [
        {
          "output_type": "execute_result",
          "data": {
            "text/plain": [
              "(6558.321643161868, 75.92664374939292, 6710.174930660654, 6406.468355663083)"
            ]
          },
          "metadata": {
            "tags": []
          },
          "execution_count": 170
        }
      ]
    },
    {
      "cell_type": "markdown",
      "metadata": {
        "id": "62iwEtNUnD4-"
      },
      "source": [
        "Observe que o resultado se repete mesmo com um novo embaralhamento dos dados.\n",
        "\n",
        "Continuando nosso estudo. Vamos agora falar do modelo de árvore de decisão em si.\n",
        "\n",
        "Os parâmetros que são setados antes de iniciar a modelagem são chamados de hiperparâmetros, pois eles influenciam diretamente nos resultados do nosso modelo.\n",
        "\n",
        "Um hiperparâmetro importante é o **max_depth**. Esse parâmetro define o quão \"profundo\" nossa árvore de decisão deve descer para fazer a previsão. Mais detalhes desse parâmetro podem ser vistos na documentação do **DecisionTreeRegressor**\n",
        "\n",
        "        Referência decision tree:\n",
        "            https://scikit-learn.org/stable/modules/tree.html\n",
        "            https://en.wikipedia.org/wiki/Decision_tree#:~:text=A%20decision%20tree%20is%20a%20flowchart%2Dlike%20structure%20in%20which,taken%20after%20computing%20all%20attributes).\n",
        "\n",
        "Podemos fazer uma exploração de como o max_depth influencia os resultados do modelo. Para isso faremos um loop de for repetindo o procedimento anterior, porém dessa vez guardaremos os dados em um DataFrame.\n",
        "\n",
        "Além disso, habilitaremos uma configuração do processo de **cross_validation** que nos permite ver o resultado da qualidade dos testes de treino **(return_train_score=True**)\n"
      ]
    },
    {
      "cell_type": "code",
      "metadata": {
        "id": "wh76a1tUnCIM",
        "outputId": "c8747e0e-87e3-479b-fd07-ce78b6a5c5fc",
        "colab": {
          "base_uri": "https://localhost:8080/",
          "height": 648
        }
      },
      "source": [
        "mse = pd.DataFrame()\n",
        "for i in range(1,21):\n",
        "    # Setar SEED:\n",
        "    SEED=1234\n",
        "    np.random.seed(SEED)\n",
        "    # instanciar KFold\n",
        "    partes = KFold(n_splits=10, shuffle=True)\n",
        "    # Selecionar o modelo\n",
        "    modelo_DecisionTreeRegressor = DecisionTreeRegressor(max_depth=i)\n",
        "    y_DecisionTreeRegressor_cross_valid = cross_validate(modelo_DecisionTreeRegressor,\n",
        "                                                         X, y, cv=partes,\n",
        "                                                         scoring='neg_mean_squared_error',\n",
        "                                                         return_train_score=True)\n",
        "    res = calcula_erro(y_DecisionTreeRegressor_cross_valid['test_score'])\n",
        "    res= pd.DataFrame(data=[\n",
        "                            [\n",
        "                             y_DecisionTreeRegressor_cross_valid['fit_time'].mean(),\n",
        "                             y_DecisionTreeRegressor_cross_valid['score_time'].mean(),\n",
        "                             y_DecisionTreeRegressor_cross_valid['test_score'].mean()*-1,\n",
        "                             y_DecisionTreeRegressor_cross_valid['train_score'].mean()*-1,\n",
        "                             res[1], res[2],res[3]\n",
        "                             ]\n",
        "                            ],\n",
        "                      columns= ['fit_time', 'score_time', 'test_score', \n",
        "                                'train_score','desv_pad', 'lim_sup', 'lim_inf'],\n",
        "                      index=[i]\n",
        "                      )\n",
        "    mse = mse.append(res)\n",
        "mse"
      ],
      "execution_count": null,
      "outputs": [
        {
          "output_type": "execute_result",
          "data": {
            "text/html": [
              "<div>\n",
              "<style scoped>\n",
              "    .dataframe tbody tr th:only-of-type {\n",
              "        vertical-align: middle;\n",
              "    }\n",
              "\n",
              "    .dataframe tbody tr th {\n",
              "        vertical-align: top;\n",
              "    }\n",
              "\n",
              "    .dataframe thead th {\n",
              "        text-align: right;\n",
              "    }\n",
              "</style>\n",
              "<table border=\"1\" class=\"dataframe\">\n",
              "  <thead>\n",
              "    <tr style=\"text-align: right;\">\n",
              "      <th></th>\n",
              "      <th>fit_time</th>\n",
              "      <th>score_time</th>\n",
              "      <th>test_score</th>\n",
              "      <th>train_score</th>\n",
              "      <th>desv_pad</th>\n",
              "      <th>lim_sup</th>\n",
              "      <th>lim_inf</th>\n",
              "    </tr>\n",
              "  </thead>\n",
              "  <tbody>\n",
              "    <tr>\n",
              "      <th>1</th>\n",
              "      <td>0.033801</td>\n",
              "      <td>0.001540</td>\n",
              "      <td>7866.927012</td>\n",
              "      <td>7849.445766</td>\n",
              "      <td>65.336265</td>\n",
              "      <td>7997.599542</td>\n",
              "      <td>7736.254482</td>\n",
              "    </tr>\n",
              "    <tr>\n",
              "      <th>2</th>\n",
              "      <td>0.059799</td>\n",
              "      <td>0.001641</td>\n",
              "      <td>6558.321643</td>\n",
              "      <td>6532.748384</td>\n",
              "      <td>75.926644</td>\n",
              "      <td>6710.174931</td>\n",
              "      <td>6406.468356</td>\n",
              "    </tr>\n",
              "    <tr>\n",
              "      <th>3</th>\n",
              "      <td>0.086527</td>\n",
              "      <td>0.001727</td>\n",
              "      <td>6060.596832</td>\n",
              "      <td>6025.718728</td>\n",
              "      <td>75.041580</td>\n",
              "      <td>6210.679993</td>\n",
              "      <td>5910.513672</td>\n",
              "    </tr>\n",
              "    <tr>\n",
              "      <th>4</th>\n",
              "      <td>0.111795</td>\n",
              "      <td>0.001776</td>\n",
              "      <td>5831.914601</td>\n",
              "      <td>5766.615419</td>\n",
              "      <td>73.636930</td>\n",
              "      <td>5979.188460</td>\n",
              "      <td>5684.640741</td>\n",
              "    </tr>\n",
              "    <tr>\n",
              "      <th>5</th>\n",
              "      <td>0.139212</td>\n",
              "      <td>0.001825</td>\n",
              "      <td>5691.016498</td>\n",
              "      <td>5604.129645</td>\n",
              "      <td>79.584099</td>\n",
              "      <td>5850.184695</td>\n",
              "      <td>5531.848300</td>\n",
              "    </tr>\n",
              "    <tr>\n",
              "      <th>6</th>\n",
              "      <td>0.164522</td>\n",
              "      <td>0.001866</td>\n",
              "      <td>5591.736724</td>\n",
              "      <td>5470.794377</td>\n",
              "      <td>71.787510</td>\n",
              "      <td>5735.311743</td>\n",
              "      <td>5448.161705</td>\n",
              "    </tr>\n",
              "    <tr>\n",
              "      <th>7</th>\n",
              "      <td>0.192499</td>\n",
              "      <td>0.001988</td>\n",
              "      <td>5536.431105</td>\n",
              "      <td>5368.221132</td>\n",
              "      <td>62.214786</td>\n",
              "      <td>5660.860678</td>\n",
              "      <td>5412.001532</td>\n",
              "    </tr>\n",
              "    <tr>\n",
              "      <th>8</th>\n",
              "      <td>0.218504</td>\n",
              "      <td>0.002090</td>\n",
              "      <td>5542.683199</td>\n",
              "      <td>5275.114665</td>\n",
              "      <td>71.891207</td>\n",
              "      <td>5686.465614</td>\n",
              "      <td>5398.900785</td>\n",
              "    </tr>\n",
              "    <tr>\n",
              "      <th>9</th>\n",
              "      <td>0.243401</td>\n",
              "      <td>0.002201</td>\n",
              "      <td>5589.698887</td>\n",
              "      <td>5166.478005</td>\n",
              "      <td>71.153507</td>\n",
              "      <td>5732.005902</td>\n",
              "      <td>5447.391872</td>\n",
              "    </tr>\n",
              "    <tr>\n",
              "      <th>10</th>\n",
              "      <td>0.269999</td>\n",
              "      <td>0.002354</td>\n",
              "      <td>5730.385997</td>\n",
              "      <td>5023.719374</td>\n",
              "      <td>64.942686</td>\n",
              "      <td>5860.271368</td>\n",
              "      <td>5600.500625</td>\n",
              "    </tr>\n",
              "    <tr>\n",
              "      <th>11</th>\n",
              "      <td>0.294746</td>\n",
              "      <td>0.002584</td>\n",
              "      <td>5915.804789</td>\n",
              "      <td>4835.375976</td>\n",
              "      <td>80.935337</td>\n",
              "      <td>6077.675463</td>\n",
              "      <td>5753.934116</td>\n",
              "    </tr>\n",
              "    <tr>\n",
              "      <th>12</th>\n",
              "      <td>0.321388</td>\n",
              "      <td>0.002691</td>\n",
              "      <td>6179.330557</td>\n",
              "      <td>4599.869858</td>\n",
              "      <td>83.619695</td>\n",
              "      <td>6346.569947</td>\n",
              "      <td>6012.091168</td>\n",
              "    </tr>\n",
              "    <tr>\n",
              "      <th>13</th>\n",
              "      <td>0.343992</td>\n",
              "      <td>0.002957</td>\n",
              "      <td>6505.557884</td>\n",
              "      <td>4322.033922</td>\n",
              "      <td>111.572249</td>\n",
              "      <td>6728.702382</td>\n",
              "      <td>6282.413385</td>\n",
              "    </tr>\n",
              "    <tr>\n",
              "      <th>14</th>\n",
              "      <td>0.370294</td>\n",
              "      <td>0.003141</td>\n",
              "      <td>6829.098245</td>\n",
              "      <td>4006.617839</td>\n",
              "      <td>113.394075</td>\n",
              "      <td>7055.886394</td>\n",
              "      <td>6602.310095</td>\n",
              "    </tr>\n",
              "    <tr>\n",
              "      <th>15</th>\n",
              "      <td>0.392456</td>\n",
              "      <td>0.003354</td>\n",
              "      <td>7199.687957</td>\n",
              "      <td>3665.528758</td>\n",
              "      <td>92.836540</td>\n",
              "      <td>7385.361037</td>\n",
              "      <td>7014.014877</td>\n",
              "    </tr>\n",
              "    <tr>\n",
              "      <th>16</th>\n",
              "      <td>0.415759</td>\n",
              "      <td>0.003615</td>\n",
              "      <td>7573.706384</td>\n",
              "      <td>3311.410856</td>\n",
              "      <td>113.818469</td>\n",
              "      <td>7801.343321</td>\n",
              "      <td>7346.069446</td>\n",
              "    </tr>\n",
              "    <tr>\n",
              "      <th>17</th>\n",
              "      <td>0.438057</td>\n",
              "      <td>0.003869</td>\n",
              "      <td>7961.368415</td>\n",
              "      <td>2951.911006</td>\n",
              "      <td>133.873412</td>\n",
              "      <td>8229.115239</td>\n",
              "      <td>7693.621591</td>\n",
              "    </tr>\n",
              "    <tr>\n",
              "      <th>18</th>\n",
              "      <td>0.457709</td>\n",
              "      <td>0.004193</td>\n",
              "      <td>8356.786071</td>\n",
              "      <td>2598.671139</td>\n",
              "      <td>132.800218</td>\n",
              "      <td>8622.386507</td>\n",
              "      <td>8091.185635</td>\n",
              "    </tr>\n",
              "    <tr>\n",
              "      <th>19</th>\n",
              "      <td>0.478343</td>\n",
              "      <td>0.004460</td>\n",
              "      <td>8768.640097</td>\n",
              "      <td>2260.163765</td>\n",
              "      <td>130.128891</td>\n",
              "      <td>9028.897879</td>\n",
              "      <td>8508.382315</td>\n",
              "    </tr>\n",
              "    <tr>\n",
              "      <th>20</th>\n",
              "      <td>0.496934</td>\n",
              "      <td>0.004751</td>\n",
              "      <td>9122.573509</td>\n",
              "      <td>1942.292635</td>\n",
              "      <td>123.384179</td>\n",
              "      <td>9369.341867</td>\n",
              "      <td>8875.805150</td>\n",
              "    </tr>\n",
              "  </tbody>\n",
              "</table>\n",
              "</div>"
            ],
            "text/plain": [
              "    fit_time  score_time   test_score  ...    desv_pad      lim_sup      lim_inf\n",
              "1   0.033801    0.001540  7866.927012  ...   65.336265  7997.599542  7736.254482\n",
              "2   0.059799    0.001641  6558.321643  ...   75.926644  6710.174931  6406.468356\n",
              "3   0.086527    0.001727  6060.596832  ...   75.041580  6210.679993  5910.513672\n",
              "4   0.111795    0.001776  5831.914601  ...   73.636930  5979.188460  5684.640741\n",
              "5   0.139212    0.001825  5691.016498  ...   79.584099  5850.184695  5531.848300\n",
              "6   0.164522    0.001866  5591.736724  ...   71.787510  5735.311743  5448.161705\n",
              "7   0.192499    0.001988  5536.431105  ...   62.214786  5660.860678  5412.001532\n",
              "8   0.218504    0.002090  5542.683199  ...   71.891207  5686.465614  5398.900785\n",
              "9   0.243401    0.002201  5589.698887  ...   71.153507  5732.005902  5447.391872\n",
              "10  0.269999    0.002354  5730.385997  ...   64.942686  5860.271368  5600.500625\n",
              "11  0.294746    0.002584  5915.804789  ...   80.935337  6077.675463  5753.934116\n",
              "12  0.321388    0.002691  6179.330557  ...   83.619695  6346.569947  6012.091168\n",
              "13  0.343992    0.002957  6505.557884  ...  111.572249  6728.702382  6282.413385\n",
              "14  0.370294    0.003141  6829.098245  ...  113.394075  7055.886394  6602.310095\n",
              "15  0.392456    0.003354  7199.687957  ...   92.836540  7385.361037  7014.014877\n",
              "16  0.415759    0.003615  7573.706384  ...  113.818469  7801.343321  7346.069446\n",
              "17  0.438057    0.003869  7961.368415  ...  133.873412  8229.115239  7693.621591\n",
              "18  0.457709    0.004193  8356.786071  ...  132.800218  8622.386507  8091.185635\n",
              "19  0.478343    0.004460  8768.640097  ...  130.128891  9028.897879  8508.382315\n",
              "20  0.496934    0.004751  9122.573509  ...  123.384179  9369.341867  8875.805150\n",
              "\n",
              "[20 rows x 7 columns]"
            ]
          },
          "metadata": {
            "tags": []
          },
          "execution_count": 171
        }
      ]
    },
    {
      "cell_type": "code",
      "metadata": {
        "id": "2kBb4WhLp9Ii",
        "outputId": "10e534ae-35e1-49fa-f506-a7890ac1c597",
        "colab": {
          "base_uri": "https://localhost:8080/",
          "height": 725
        }
      },
      "source": [
        "plt.figure(figsize=(10,10))\n",
        "sns.lineplot(mse.index, mse.test_score, label='Score Dados de teste')\n",
        "sns.lineplot(mse.index, mse.train_score, label='Score Dados de treino')\n",
        "plt.xlabel('Camadas da árvore de decisão', fontsize=20)\n",
        "plt.xlim(0,20)\n",
        "plt.ylabel('Mean Square Error', fontsize=20)"
      ],
      "execution_count": null,
      "outputs": [
        {
          "output_type": "stream",
          "text": [
            "/usr/local/lib/python3.6/dist-packages/seaborn/_decorators.py:43: FutureWarning: Pass the following variables as keyword args: x, y. From version 0.12, the only valid positional argument will be `data`, and passing other arguments without an explicit keyword will result in an error or misinterpretation.\n",
            "  FutureWarning\n",
            "/usr/local/lib/python3.6/dist-packages/seaborn/_decorators.py:43: FutureWarning: Pass the following variables as keyword args: x, y. From version 0.12, the only valid positional argument will be `data`, and passing other arguments without an explicit keyword will result in an error or misinterpretation.\n",
            "  FutureWarning\n"
          ],
          "name": "stderr"
        },
        {
          "output_type": "execute_result",
          "data": {
            "text/plain": [
              "Text(0, 0.5, 'Mean Square Error')"
            ]
          },
          "metadata": {
            "tags": []
          },
          "execution_count": 172
        },
        {
          "output_type": "display_data",
          "data": {
            "image/png": "[encoded data removed]",
            "text/plain": [
              "<Figure size 720x720 with 1 Axes>"
            ]
          },
          "metadata": {
            "tags": [],
            "needs_background": "light"
          }
        }
      ]
    },
    {
      "cell_type": "markdown",
      "metadata": {
        "id": "PM7pra-AxuH_"
      },
      "source": [
        "Como é possível ver, aumentar o número de camadas da árvore de decisão sempre ajuda a melhorar o resultado do modelo de treino. O mesmo não ocorre com os resultados de teste.  É possível notar uma melhora até 7 camadas da árvore. Depois disso, o modelo de teste passa a ter resultados piores. \n",
        "\n",
        "Isso ocorre pois o modelo começa a \"decorar os resultados de treino e ficar muito bom para prever esses dados, porém quando tenta prever os resultados de teste, ele passa a retornar resultados muito ruins, pois ele está viciado nos resultados de treino. Esse problema é conhecido como \"overfiting\".\n",
        "\n",
        "Esse processo pode ser repetido também para outros parâmetros da árvore de decisão (como o **max_leaf_nodes** ) até que se tenha a melhor configuração possível para uma árvore de decisão."
      ]
    },
    {
      "cell_type": "code",
      "metadata": {
        "id": "PIQVJhrUrumf",
        "outputId": "9ca0740f-f3b6-45e8-a32c-cbddc84d4a36",
        "colab": {
          "base_uri": "https://localhost:8080/",
          "height": 765
        }
      },
      "source": [
        "mse = pd.DataFrame()\n",
        "for i in range(1,500,2):\n",
        "    # Setar SEED:\n",
        "    SEED=1234\n",
        "    np.random.seed(SEED)\n",
        "    # instanciar KFold\n",
        "    partes = KFold(n_splits=10, shuffle=True)\n",
        "    # Selecionar o modelo\n",
        "    modelo_DecisionTreeRegressor = DecisionTreeRegressor(max_leaf_nodes=i)\n",
        "    y_DecisionTreeRegressor_cross_valid = cross_validate(modelo_DecisionTreeRegressor,\n",
        "                                                         X, y, cv=partes,\n",
        "                                                         scoring='neg_mean_squared_error',\n",
        "                                                         return_train_score=True,\n",
        "                                                         )\n",
        "    res = calcula_erro(y_DecisionTreeRegressor_cross_valid['test_score'])\n",
        "    res= pd.DataFrame(data=[\n",
        "                            [\n",
        "                             y_DecisionTreeRegressor_cross_valid['fit_time'].mean(),\n",
        "                             y_DecisionTreeRegressor_cross_valid['score_time'].mean(),\n",
        "                             y_DecisionTreeRegressor_cross_valid['test_score'].mean()*-1,\n",
        "                             y_DecisionTreeRegressor_cross_valid['train_score'].mean()*-1,\n",
        "                             res[1], res[2],res[3]\n",
        "                             ]\n",
        "                            ],\n",
        "                      columns= ['fit_time', 'score_time', 'test_score', \n",
        "                                'train_score','desv_pad', 'lim_sup', 'lim_inf'],\n",
        "                      index=[i]\n",
        "                      )\n",
        "    mse = mse.append(res)\n",
        "mse"
      ],
      "execution_count": null,
      "outputs": [
        {
          "output_type": "stream",
          "text": [
            "/usr/local/lib/python3.6/dist-packages/sklearn/model_selection/_validation.py:536: FitFailedWarning: Estimator fit failed. The score on this train-test partition for these parameters will be set to nan. Details: \n",
            "ValueError: max_leaf_nodes 1 must be either None or larger than 1\n",
            "\n",
            "  FitFailedWarning)\n",
            "/usr/local/lib/python3.6/dist-packages/sklearn/model_selection/_validation.py:536: FitFailedWarning: Estimator fit failed. The score on this train-test partition for these parameters will be set to nan. Details: \n",
            "ValueError: max_leaf_nodes 1 must be either None or larger than 1\n",
            "\n",
            "  FitFailedWarning)\n",
            "/usr/local/lib/python3.6/dist-packages/sklearn/model_selection/_validation.py:536: FitFailedWarning: Estimator fit failed. The score on this train-test partition for these parameters will be set to nan. Details: \n",
            "ValueError: max_leaf_nodes 1 must be either None or larger than 1\n",
            "\n",
            "  FitFailedWarning)\n",
            "/usr/local/lib/python3.6/dist-packages/sklearn/model_selection/_validation.py:536: FitFailedWarning: Estimator fit failed. The score on this train-test partition for these parameters will be set to nan. Details: \n",
            "ValueError: max_leaf_nodes 1 must be either None or larger than 1\n",
            "\n",
            "  FitFailedWarning)\n",
            "/usr/local/lib/python3.6/dist-packages/sklearn/model_selection/_validation.py:536: FitFailedWarning: Estimator fit failed. The score on this train-test partition for these parameters will be set to nan. Details: \n",
            "ValueError: max_leaf_nodes 1 must be either None or larger than 1\n",
            "\n",
            "  FitFailedWarning)\n",
            "/usr/local/lib/python3.6/dist-packages/sklearn/model_selection/_validation.py:536: FitFailedWarning: Estimator fit failed. The score on this train-test partition for these parameters will be set to nan. Details: \n",
            "ValueError: max_leaf_nodes 1 must be either None or larger than 1\n",
            "\n",
            "  FitFailedWarning)\n",
            "/usr/local/lib/python3.6/dist-packages/sklearn/model_selection/_validation.py:536: FitFailedWarning: Estimator fit failed. The score on this train-test partition for these parameters will be set to nan. Details: \n",
            "ValueError: max_leaf_nodes 1 must be either None or larger than 1\n",
            "\n",
            "  FitFailedWarning)\n",
            "/usr/local/lib/python3.6/dist-packages/sklearn/model_selection/_validation.py:536: FitFailedWarning: Estimator fit failed. The score on this train-test partition for these parameters will be set to nan. Details: \n",
            "ValueError: max_leaf_nodes 1 must be either None or larger than 1\n",
            "\n",
            "  FitFailedWarning)\n",
            "/usr/local/lib/python3.6/dist-packages/sklearn/model_selection/_validation.py:536: FitFailedWarning: Estimator fit failed. The score on this train-test partition for these parameters will be set to nan. Details: \n",
            "ValueError: max_leaf_nodes 1 must be either None or larger than 1\n",
            "\n",
            "  FitFailedWarning)\n",
            "/usr/local/lib/python3.6/dist-packages/sklearn/model_selection/_validation.py:536: FitFailedWarning: Estimator fit failed. The score on this train-test partition for these parameters will be set to nan. Details: \n",
            "ValueError: max_leaf_nodes 1 must be either None or larger than 1\n",
            "\n",
            "  FitFailedWarning)\n"
          ],
          "name": "stderr"
        }
      ]
    },
    {
      "cell_type": "code",
      "metadata": {
        "id": "CniEb8dOuvd6"
      },
      "source": [
        "plt.figure(figsize=(10,10))\n",
        "sns.lineplot(mse.index, mse.test_score, label='Score Dados de teste')\n",
        "sns.lineplot(mse.index, mse.train_score, label='Score Dados de treino')\n",
        "plt.xlabel('Número Máximo de \"Folhas\" por Nó da Árvore de Decisão', fontsize=20)\n",
        "plt.ylabel('Mean Square Error', fontsize=20)\n",
        "plt.grid()"
      ],
      "execution_count": null,
      "outputs": []
    },
    {
      "cell_type": "markdown",
      "metadata": {
        "id": "dBpwloXW-Hqr"
      },
      "source": [
        "Nesse útimo gráfico é facil notar que conforme aumentamos o número máximo de \"folhas\" por nó, diminuimos o erro do modelo. Contudo, da mesma forma que vimos para o estudo de variação de camadas, o erro aumenta após um certo valor de \"folhas\" por nó.\n",
        "\n",
        "Dessa forma temos que buscar a combinação de parâmetros da árvore de decisão que apresente melhor resultados para o estudo.\n",
        "\n",
        "Bom, isso é tudo por hoje. \n",
        "\n",
        "Essa áula foi a última da série de #ImersãoDados promovida pela Alura. Espero que eu tenha conseguido transmitir o conhecimento de forma clara para todos.\n",
        "\n",
        "Até a próxima!"
      ]
    }
  ]
}